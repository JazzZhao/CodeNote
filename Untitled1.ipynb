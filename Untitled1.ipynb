{
 "cells": [
  {
   "cell_type": "code",
   "execution_count": 1,
   "id": "a4b0efb5-303e-429b-a84a-36e71a533d09",
   "metadata": {},
   "outputs": [],
   "source": [
    "import torch\n",
    "from torch import nn\n",
    "from torch.nn import functional as F\n",
    "import torchvision\n",
    "from torchvision import transforms\n",
    "from torch.utils import data\n",
    "from tqdm import tqdm\n",
    "from IPython import display\n",
    "import matplotlib.pyplot as plt\n",
    "import utils"
   ]
  },
  {
   "cell_type": "code",
   "execution_count": null,
   "id": "fe00c5b1",
   "metadata": {},
   "outputs": [],
   "source": [
    "class Inception (nn.Module):\n",
    "    def __init__(self, in_channels, c1, c2, c3, c4, **kwargs):\n",
    "        super(Inception, self).__init__(**kwargs)\n",
    "        #第一条线路\n",
    "        self.conv1 = nn.Conv2d(in_channels, c1, kernel_size=1)\n",
    "        #第二条线路\n",
    "        self.conv2 = nn.Sequential(\n",
    "            nn.Conv2d(in_channels, c2[0], kernel_size=1), nn.ReLU(),\n",
    "            nn.Conv2d(c2[0], c2[1], kernel_size=3,padding=1), nn.ReLU()\n",
    "        )\n",
    "        #第三条线路\n",
    "        self.conv3 = nn.Sequential(\n",
    "            nn.Conv2d(in_channels, c3[0], kernel_size=1), nn.ReLU(),\n",
    "            nn.Conv2d(c3[0], c3[1], kernel_size=5, padding=2), nn.ReLU()\n",
    "        )\n",
    "        #第四条线路\n",
    "        self.conv4 = nn.Sequential(\n",
    "            nn.MaxPool2d(kernel_size=3,stride=1, padding=1), nn.ReLU(),\n",
    "            nn.Conv2d(in_channels, c4, kernel_size=1), nn.ReLU()\n",
    "        )\n",
    "\n",
    "    def forward(self, x):\n",
    "        return torch.cat((\n",
    "            self.conv1(x),\n",
    "            self.conv2(x),\n",
    "            self.conv3(x),\n",
    "            self.conv4(x)\n",
    "            ), dim = 1)\n"
   ]
  }
 ],
 "metadata": {
  "kernelspec": {
   "display_name": "Python 3",
   "language": "python",
   "name": "python3"
  },
  "language_info": {
   "codemirror_mode": {
    "name": "ipython",
    "version": 3
   },
   "file_extension": ".py",
   "mimetype": "text/x-python",
   "name": "python",
   "nbconvert_exporter": "python",
   "pygments_lexer": "ipython3",
   "version": "3.8.8"
  }
 },
 "nbformat": 4,
 "nbformat_minor": 5
}
