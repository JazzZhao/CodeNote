{
 "cells": [
  {
   "cell_type": "code",
   "execution_count": 1,
   "metadata": {},
   "outputs": [
    {
     "name": "stderr",
     "output_type": "stream",
     "text": [
      "c:\\Users\\zjt78\\miniconda3\\envs\\faq\\lib\\site-packages\\_distutils_hack\\__init__.py:30: UserWarning: Setuptools is replacing distutils.\n",
      "  warnings.warn(\"Setuptools is replacing distutils.\")\n"
     ]
    }
   ],
   "source": [
    "from paddlenlp.dataaug import WordSubstitute"
   ]
  },
  {
   "cell_type": "code",
   "execution_count": 2,
   "metadata": {},
   "outputs": [
    {
     "name": "stderr",
     "output_type": "stream",
     "text": [
      "100%|██████████| 17/17 [00:00<00:00, 1741.99it/s]\n",
      "100%|██████████| 34479/34479 [00:03<00:00, 10932.20it/s]\n",
      "100%|██████████| 46328/46328 [00:05<00:00, 7956.66it/s] \n"
     ]
    },
    {
     "name": "stdout",
     "output_type": "stream",
     "text": [
      "origin: 工地买了建工险，出了事故多长时间上报保险公司有效。\n",
      "augmented: ['工地买了基建工险，出收故多长时间上报保险公司有效。', '工地买了建工险，出完结故多长时间上报保险商行有效。', '工地买了建工险，出收摊儿故多长光阴上报保险公司有效。']\n"
     ]
    }
   ],
   "source": [
    "s1 = \"工地买了建工险，出了事故多长时间上报保险公司有效。\"\n",
    "aug = WordSubstitute('synonym', create_n=3, aug_percent=0.3)\n",
    "augmented = aug.augment(s1)\n",
    "print(\"origin:\", s1)\n",
    "print(\"augmented:\", augmented)"
   ]
  },
  {
   "cell_type": "code",
   "execution_count": 3,
   "metadata": {},
   "outputs": [],
   "source": [
    "import paddle"
   ]
  },
  {
   "cell_type": "code",
   "execution_count": 8,
   "metadata": {},
   "outputs": [
    {
     "data": {
      "text/plain": [
       "Place(gpu:0)"
      ]
     },
     "execution_count": 8,
     "metadata": {},
     "output_type": "execute_result"
    }
   ],
   "source": [
    "paddle.set_device(\"gpu\")"
   ]
  },
  {
   "cell_type": "code",
   "execution_count": 9,
   "metadata": {},
   "outputs": [
    {
     "name": "stderr",
     "output_type": "stream",
     "text": [
      "\u001b[32m[2023-02-22 18:08:38,955] [    INFO]\u001b[0m - We are using <class 'paddlenlp.transformers.ernie.modeling.ErnieForMaskedLM'> to load 'ernie-1.0'.\u001b[0m\n",
      "\u001b[32m[2023-02-22 18:08:38,957] [    INFO]\u001b[0m - Model config ErnieConfig {\n",
      "  \"attention_probs_dropout_prob\": 0.1,\n",
      "  \"enable_recompute\": false,\n",
      "  \"fuse\": false,\n",
      "  \"hidden_act\": \"relu\",\n",
      "  \"hidden_dropout_prob\": 0.1,\n",
      "  \"hidden_size\": 768,\n",
      "  \"initializer_range\": 0.02,\n",
      "  \"intermediate_size\": 3072,\n",
      "  \"layer_norm_eps\": 1e-12,\n",
      "  \"max_position_embeddings\": 513,\n",
      "  \"model_type\": \"ernie\",\n",
      "  \"num_attention_heads\": 12,\n",
      "  \"num_hidden_layers\": 12,\n",
      "  \"pad_token_id\": 0,\n",
      "  \"paddlenlp_version\": null,\n",
      "  \"pool_act\": \"tanh\",\n",
      "  \"task_id\": 0,\n",
      "  \"task_type_vocab_size\": 3,\n",
      "  \"type_vocab_size\": 2,\n",
      "  \"use_task_id\": true,\n",
      "  \"vocab_size\": 18000\n",
      "}\n",
      "\u001b[0m\n",
      "\u001b[32m[2023-02-22 18:08:38,960] [    INFO]\u001b[0m - Configuration saved in C:\\Users\\zjt78\\.paddlenlp\\models\\ernie-1.0\\config.json\u001b[0m\n"
     ]
    },
    {
     "ename": "RuntimeError",
     "evalue": "(PreconditionNotMet) The third-party dynamic library (cudnn64_8.dll) that Paddle depends on is not configured correctly. (error code is 126)\n  Suggestions:\n  1. Check if the third-party dynamic library (e.g. CUDA, CUDNN) is installed correctly and its version is matched with paddlepaddle you installed.\n  2. Configure third-party dynamic library environment variables as follows:\n  - Linux: set LD_LIBRARY_PATH by `export LD_LIBRARY_PATH=...`\n  - Windows: set PATH by `set PATH=XXX; (at ..\\paddle\\phi\\backends\\dynload\\dynamic_loader.cc:305)\n",
     "output_type": "error",
     "traceback": [
      "\u001b[1;31m---------------------------------------------------------------------------\u001b[0m",
      "\u001b[1;31mRuntimeError\u001b[0m                              Traceback (most recent call last)",
      "Cell \u001b[1;32mIn[9], line 1\u001b[0m\n\u001b[1;32m----> 1\u001b[0m aug \u001b[39m=\u001b[39m WordSubstitute(\u001b[39m'\u001b[39;49m\u001b[39mmlm\u001b[39;49m\u001b[39m'\u001b[39;49m, create_n\u001b[39m=\u001b[39;49m\u001b[39m2\u001b[39;49m)\n\u001b[0;32m      2\u001b[0m augmented \u001b[39m=\u001b[39m aug\u001b[39m.\u001b[39maugment(s1)\n\u001b[0;32m      3\u001b[0m \u001b[39mprint\u001b[39m(\u001b[39m\"\u001b[39m\u001b[39morigin:\u001b[39m\u001b[39m\"\u001b[39m, s1)\n",
      "File \u001b[1;32mc:\\Users\\zjt78\\miniconda3\\envs\\faq\\lib\\site-packages\\paddlenlp\\dataaug\\word_substitute.py:90\u001b[0m, in \u001b[0;36mWordSubstitute.__init__\u001b[1;34m(self, aug_type, custom_file_path, delete_file_path, create_n, aug_n, aug_percent, aug_min, aug_max, tf_idf, tf_idf_file)\u001b[0m\n\u001b[0;32m     88\u001b[0m         \u001b[39mself\u001b[39m\u001b[39m.\u001b[39mdict \u001b[39m=\u001b[39m \u001b[39mself\u001b[39m\u001b[39m.\u001b[39m_load_substitue_dict(aug_type)\n\u001b[0;32m     89\u001b[0m     \u001b[39melif\u001b[39;00m aug_type \u001b[39min\u001b[39;00m [\u001b[39m\"\u001b[39m\u001b[39mmlm\u001b[39m\u001b[39m\"\u001b[39m]:\n\u001b[1;32m---> 90\u001b[0m         \u001b[39mself\u001b[39m\u001b[39m.\u001b[39mmlm_model \u001b[39m=\u001b[39m AutoModelForMaskedLM\u001b[39m.\u001b[39;49mfrom_pretrained(\u001b[39mself\u001b[39;49m\u001b[39m.\u001b[39;49mmodel_name)\n\u001b[0;32m     91\u001b[0m         \u001b[39mself\u001b[39m\u001b[39m.\u001b[39mmlm_tokenizer \u001b[39m=\u001b[39m AutoTokenizer\u001b[39m.\u001b[39mfrom_pretrained(\u001b[39mself\u001b[39m\u001b[39m.\u001b[39mmodel_name)\n\u001b[0;32m     92\u001b[0m \u001b[39melif\u001b[39;00m \u001b[39misinstance\u001b[39m(aug_type, Iterable):\n",
      "File \u001b[1;32mc:\\Users\\zjt78\\miniconda3\\envs\\faq\\lib\\site-packages\\paddlenlp\\transformers\\auto\\modeling.py:693\u001b[0m, in \u001b[0;36mAutoModelForMaskedLM.from_pretrained\u001b[1;34m(cls, pretrained_model_name_or_path, *model_args, **kwargs)\u001b[0m\n\u001b[0;32m    658\u001b[0m \u001b[39m@classmethod\u001b[39m\n\u001b[0;32m    659\u001b[0m \u001b[39mdef\u001b[39;00m \u001b[39mfrom_pretrained\u001b[39m(\u001b[39mcls\u001b[39m, pretrained_model_name_or_path, \u001b[39m*\u001b[39mmodel_args, \u001b[39m*\u001b[39m\u001b[39m*\u001b[39mkwargs):\n\u001b[0;32m    660\u001b[0m     \u001b[39m\"\"\"\u001b[39;00m\n\u001b[0;32m    661\u001b[0m \u001b[39m    Creates an instance of `AutoModelForMaskedLM`. Model weights are loaded\u001b[39;00m\n\u001b[0;32m    662\u001b[0m \u001b[39m    by specifying name of a built-in pretrained model, or a community contributed model,\u001b[39;00m\n\u001b[1;32m   (...)\u001b[0m\n\u001b[0;32m    691\u001b[0m \u001b[39m            # <class 'paddlenlp.transformers.bert.modeling.BertModelForMaskedLM'>\u001b[39;00m\n\u001b[0;32m    692\u001b[0m \u001b[39m    \"\"\"\u001b[39;00m\n\u001b[1;32m--> 693\u001b[0m     \u001b[39mreturn\u001b[39;00m \u001b[39mcls\u001b[39m\u001b[39m.\u001b[39m_from_pretrained(pretrained_model_name_or_path, \u001b[39m*\u001b[39mmodel_args, \u001b[39m*\u001b[39m\u001b[39m*\u001b[39mkwargs)\n",
      "File \u001b[1;32mc:\\Users\\zjt78\\miniconda3\\envs\\faq\\lib\\site-packages\\paddlenlp\\transformers\\auto\\modeling.py:291\u001b[0m, in \u001b[0;36m_BaseAutoModelClass._from_pretrained\u001b[1;34m(cls, pretrained_model_name_or_path, task, from_hf_hub, *model_args, **kwargs)\u001b[0m\n\u001b[0;32m    282\u001b[0m                     \u001b[39mraise\u001b[39;00m \u001b[39mAttributeError\u001b[39;00m(\n\u001b[0;32m    283\u001b[0m                         \u001b[39mf\u001b[39m\u001b[39m\"\u001b[39m\u001b[39mmodule \u001b[39m\u001b[39m'\u001b[39m\u001b[39m{\u001b[39;00mimport_class\u001b[39m.\u001b[39m\u001b[39m__name__\u001b[39m\u001b[39m}\u001b[39;00m\u001b[39m'\u001b[39m\u001b[39m only supports the following classes: \u001b[39m\u001b[39m\"\u001b[39m\n\u001b[0;32m    284\u001b[0m                         \u001b[39m+\u001b[39m \u001b[39m\"\u001b[39m\u001b[39m, \u001b[39m\u001b[39m\"\u001b[39m\u001b[39m.\u001b[39mjoin(m \u001b[39mfor\u001b[39;00m m \u001b[39min\u001b[39;00m all_model_classes)\n\u001b[1;32m   (...)\u001b[0m\n\u001b[0;32m    288\u001b[0m                         \u001b[39m+\u001b[39m \u001b[39mf\u001b[39m\u001b[39m\"\u001b[39m\u001b[39m to load \u001b[39m\u001b[39m'\u001b[39m\u001b[39m{\u001b[39;00mpretrained_model_name_or_path\u001b[39m}\u001b[39;00m\u001b[39m'\u001b[39m\u001b[39m\\n\u001b[39;00m\u001b[39m\"\u001b[39m\n\u001b[0;32m    289\u001b[0m                     )\n\u001b[0;32m    290\u001b[0m                 logger\u001b[39m.\u001b[39minfo(\u001b[39mf\u001b[39m\u001b[39m\"\u001b[39m\u001b[39mWe are using \u001b[39m\u001b[39m{\u001b[39;00mmodel_class\u001b[39m}\u001b[39;00m\u001b[39m to load \u001b[39m\u001b[39m'\u001b[39m\u001b[39m{\u001b[39;00mpretrained_model_name_or_path\u001b[39m}\u001b[39;00m\u001b[39m'\u001b[39m\u001b[39m.\u001b[39m\u001b[39m\"\u001b[39m)\n\u001b[1;32m--> 291\u001b[0m                 \u001b[39mreturn\u001b[39;00m model_class\u001b[39m.\u001b[39mfrom_pretrained(pretrained_model_name_or_path, \u001b[39m*\u001b[39mmodel_args, \u001b[39m*\u001b[39m\u001b[39m*\u001b[39mkwargs)\n\u001b[0;32m    292\u001b[0m \u001b[39m# From local dir path\u001b[39;00m\n\u001b[0;32m    293\u001b[0m \u001b[39melif\u001b[39;00m os\u001b[39m.\u001b[39mpath\u001b[39m.\u001b[39misdir(pretrained_model_name_or_path):\n",
      "File \u001b[1;32mc:\\Users\\zjt78\\miniconda3\\envs\\faq\\lib\\site-packages\\paddlenlp\\transformers\\model_utils.py:405\u001b[0m, in \u001b[0;36mPretrainedModel.from_pretrained\u001b[1;34m(cls, pretrained_model_name_or_path, from_hf_hub, *args, **kwargs)\u001b[0m\n\u001b[0;32m    356\u001b[0m \u001b[39m\"\"\"\u001b[39;00m\n\u001b[0;32m    357\u001b[0m \u001b[39mCreates an instance of `PretrainedModel`. Model weights are loaded\u001b[39;00m\n\u001b[0;32m    358\u001b[0m \u001b[39mby specifying name of a built-in pretrained model, or a community contributed model,\u001b[39;00m\n\u001b[1;32m   (...)\u001b[0m\n\u001b[0;32m    402\u001b[0m \u001b[39m        model = BertForSequenceClassification.from_pretrained('./my_bert/')\u001b[39;00m\n\u001b[0;32m    403\u001b[0m \u001b[39m\"\"\"\u001b[39;00m\n\u001b[0;32m    404\u001b[0m \u001b[39mif\u001b[39;00m \u001b[39mcls\u001b[39m\u001b[39m.\u001b[39mconstructed_from_pretrained_config():\n\u001b[1;32m--> 405\u001b[0m     \u001b[39mreturn\u001b[39;00m \u001b[39mcls\u001b[39m\u001b[39m.\u001b[39mfrom_pretrained_v2(pretrained_model_name_or_path, from_hf_hub\u001b[39m=\u001b[39mfrom_hf_hub, \u001b[39m*\u001b[39margs, \u001b[39m*\u001b[39m\u001b[39m*\u001b[39mkwargs)\n\u001b[0;32m    407\u001b[0m resource_files \u001b[39m=\u001b[39m {}\n\u001b[0;32m    408\u001b[0m init_configuration \u001b[39m=\u001b[39m {}\n",
      "File \u001b[1;32mc:\\Users\\zjt78\\miniconda3\\envs\\faq\\lib\\site-packages\\paddlenlp\\transformers\\model_utils.py:1224\u001b[0m, in \u001b[0;36mPretrainedModel.from_pretrained_v2\u001b[1;34m(cls, pretrained_model_name_or_path, from_hf_hub, *args, **kwargs)\u001b[0m\n\u001b[0;32m   1222\u001b[0m \u001b[39m# 2. init the model\u001b[39;00m\n\u001b[0;32m   1223\u001b[0m init_args \u001b[39m=\u001b[39m config[\u001b[39m\"\u001b[39m\u001b[39minit_args\u001b[39m\u001b[39m\"\u001b[39m] \u001b[39mor\u001b[39;00m ()\n\u001b[1;32m-> 1224\u001b[0m model \u001b[39m=\u001b[39m \u001b[39mcls\u001b[39m(config, \u001b[39m*\u001b[39minit_args, \u001b[39m*\u001b[39m\u001b[39m*\u001b[39mmodel_kwargs)\n\u001b[0;32m   1226\u001b[0m \u001b[39m# 3. resolve model_weight file\u001b[39;00m\n\u001b[0;32m   1227\u001b[0m model_weight_file \u001b[39m=\u001b[39m \u001b[39mcls\u001b[39m\u001b[39m.\u001b[39m_resolve_model_file_path(\n\u001b[0;32m   1228\u001b[0m     pretrained_model_name_or_path, cache_dir\u001b[39m=\u001b[39mcache_dir, from_hf_hub\u001b[39m=\u001b[39mfrom_hf_hub\n\u001b[0;32m   1229\u001b[0m )\n",
      "File \u001b[1;32mc:\\Users\\zjt78\\miniconda3\\envs\\faq\\lib\\site-packages\\paddlenlp\\transformers\\utils.py:170\u001b[0m, in \u001b[0;36mInitTrackerMeta.init_and_track_conf.<locals>.__impl__\u001b[1;34m(self, *args, **kwargs)\u001b[0m\n\u001b[0;32m    168\u001b[0m     pre_init_func(\u001b[39mself\u001b[39m, init_func, \u001b[39m*\u001b[39margs, \u001b[39m*\u001b[39m\u001b[39m*\u001b[39mkwargs)\n\u001b[0;32m    169\u001b[0m \u001b[39m# keep full configuration\u001b[39;00m\n\u001b[1;32m--> 170\u001b[0m init_func(\u001b[39mself\u001b[39m, \u001b[39m*\u001b[39margs, \u001b[39m*\u001b[39m\u001b[39m*\u001b[39mkwargs)\n\u001b[0;32m    171\u001b[0m \u001b[39m# registed helper by `post_init_func`\u001b[39;00m\n\u001b[0;32m    172\u001b[0m \u001b[39mif\u001b[39;00m post_init_func:\n",
      "File \u001b[1;32mc:\\Users\\zjt78\\miniconda3\\envs\\faq\\lib\\site-packages\\paddlenlp\\transformers\\ernie\\modeling.py:998\u001b[0m, in \u001b[0;36mErnieForMaskedLM.__init__\u001b[1;34m(self, config)\u001b[0m\n\u001b[0;32m    996\u001b[0m \u001b[39mdef\u001b[39;00m \u001b[39m__init__\u001b[39m(\u001b[39mself\u001b[39m, config: ErnieConfig):\n\u001b[0;32m    997\u001b[0m     \u001b[39msuper\u001b[39m(ErnieForMaskedLM, \u001b[39mself\u001b[39m)\u001b[39m.\u001b[39m\u001b[39m__init__\u001b[39m(config)\n\u001b[1;32m--> 998\u001b[0m     \u001b[39mself\u001b[39m\u001b[39m.\u001b[39mernie \u001b[39m=\u001b[39m ErnieModel(config)\n\u001b[0;32m    999\u001b[0m     \u001b[39mself\u001b[39m\u001b[39m.\u001b[39mcls \u001b[39m=\u001b[39m ErnieOnlyMLMHead(\n\u001b[0;32m   1000\u001b[0m         config\u001b[39m=\u001b[39mconfig,\n\u001b[0;32m   1001\u001b[0m         embedding_weights\u001b[39m=\u001b[39m\u001b[39mself\u001b[39m\u001b[39m.\u001b[39mernie\u001b[39m.\u001b[39membeddings\u001b[39m.\u001b[39mword_embeddings\u001b[39m.\u001b[39mweight,\n\u001b[0;32m   1002\u001b[0m     )\n\u001b[0;32m   1004\u001b[0m     \u001b[39mself\u001b[39m\u001b[39m.\u001b[39mapply(\u001b[39mself\u001b[39m\u001b[39m.\u001b[39minit_weights)\n",
      "File \u001b[1;32mc:\\Users\\zjt78\\miniconda3\\envs\\faq\\lib\\site-packages\\paddlenlp\\transformers\\utils.py:170\u001b[0m, in \u001b[0;36mInitTrackerMeta.init_and_track_conf.<locals>.__impl__\u001b[1;34m(self, *args, **kwargs)\u001b[0m\n\u001b[0;32m    168\u001b[0m     pre_init_func(\u001b[39mself\u001b[39m, init_func, \u001b[39m*\u001b[39margs, \u001b[39m*\u001b[39m\u001b[39m*\u001b[39mkwargs)\n\u001b[0;32m    169\u001b[0m \u001b[39m# keep full configuration\u001b[39;00m\n\u001b[1;32m--> 170\u001b[0m init_func(\u001b[39mself\u001b[39m, \u001b[39m*\u001b[39margs, \u001b[39m*\u001b[39m\u001b[39m*\u001b[39mkwargs)\n\u001b[0;32m    171\u001b[0m \u001b[39m# registed helper by `post_init_func`\u001b[39;00m\n\u001b[0;32m    172\u001b[0m \u001b[39mif\u001b[39;00m post_init_func:\n",
      "File \u001b[1;32mc:\\Users\\zjt78\\miniconda3\\envs\\faq\\lib\\site-packages\\paddlenlp\\transformers\\ernie\\modeling.py:202\u001b[0m, in \u001b[0;36mErnieModel.__init__\u001b[1;34m(self, config)\u001b[0m\n\u001b[0;32m    198\u001b[0m \u001b[39mself\u001b[39m\u001b[39m.\u001b[39minitializer_range \u001b[39m=\u001b[39m config\u001b[39m.\u001b[39minitializer_range\n\u001b[0;32m    199\u001b[0m weight_attr \u001b[39m=\u001b[39m paddle\u001b[39m.\u001b[39mParamAttr(\n\u001b[0;32m    200\u001b[0m     initializer\u001b[39m=\u001b[39mnn\u001b[39m.\u001b[39minitializer\u001b[39m.\u001b[39mTruncatedNormal(mean\u001b[39m=\u001b[39m\u001b[39m0.0\u001b[39m, std\u001b[39m=\u001b[39m\u001b[39mself\u001b[39m\u001b[39m.\u001b[39minitializer_range)\n\u001b[0;32m    201\u001b[0m )\n\u001b[1;32m--> 202\u001b[0m \u001b[39mself\u001b[39m\u001b[39m.\u001b[39membeddings \u001b[39m=\u001b[39m ErnieEmbeddings(config\u001b[39m=\u001b[39;49mconfig, weight_attr\u001b[39m=\u001b[39;49mweight_attr)\n\u001b[0;32m    203\u001b[0m encoder_layer \u001b[39m=\u001b[39m nn\u001b[39m.\u001b[39mTransformerEncoderLayer(\n\u001b[0;32m    204\u001b[0m     config\u001b[39m.\u001b[39mhidden_size,\n\u001b[0;32m    205\u001b[0m     config\u001b[39m.\u001b[39mnum_attention_heads,\n\u001b[1;32m   (...)\u001b[0m\n\u001b[0;32m    212\u001b[0m     normalize_before\u001b[39m=\u001b[39m\u001b[39mFalse\u001b[39;00m,\n\u001b[0;32m    213\u001b[0m )\n\u001b[0;32m    214\u001b[0m \u001b[39mself\u001b[39m\u001b[39m.\u001b[39mencoder \u001b[39m=\u001b[39m nn\u001b[39m.\u001b[39mTransformerEncoder(\n\u001b[0;32m    215\u001b[0m     encoder_layer, config\u001b[39m.\u001b[39mnum_hidden_layers, enable_recompute\u001b[39m=\u001b[39mconfig\u001b[39m.\u001b[39menable_recompute\n\u001b[0;32m    216\u001b[0m )\n",
      "File \u001b[1;32mc:\\Users\\zjt78\\miniconda3\\envs\\faq\\lib\\site-packages\\paddlenlp\\transformers\\ernie\\modeling.py:61\u001b[0m, in \u001b[0;36mErnieEmbeddings.__init__\u001b[1;34m(self, config, weight_attr)\u001b[0m\n\u001b[0;32m     58\u001b[0m \u001b[39mdef\u001b[39;00m \u001b[39m__init__\u001b[39m(\u001b[39mself\u001b[39m, config: ErnieConfig, weight_attr):\n\u001b[0;32m     59\u001b[0m     \u001b[39msuper\u001b[39m(ErnieEmbeddings, \u001b[39mself\u001b[39m)\u001b[39m.\u001b[39m\u001b[39m__init__\u001b[39m()\n\u001b[1;32m---> 61\u001b[0m     \u001b[39mself\u001b[39m\u001b[39m.\u001b[39mword_embeddings \u001b[39m=\u001b[39m nn\u001b[39m.\u001b[39;49mEmbedding(\n\u001b[0;32m     62\u001b[0m         config\u001b[39m.\u001b[39;49mvocab_size, config\u001b[39m.\u001b[39;49mhidden_size, padding_idx\u001b[39m=\u001b[39;49mconfig\u001b[39m.\u001b[39;49mpad_token_id, weight_attr\u001b[39m=\u001b[39;49mweight_attr\n\u001b[0;32m     63\u001b[0m     )\n\u001b[0;32m     64\u001b[0m     \u001b[39mself\u001b[39m\u001b[39m.\u001b[39mposition_embeddings \u001b[39m=\u001b[39m nn\u001b[39m.\u001b[39mEmbedding(\n\u001b[0;32m     65\u001b[0m         config\u001b[39m.\u001b[39mmax_position_embeddings, config\u001b[39m.\u001b[39mhidden_size, weight_attr\u001b[39m=\u001b[39mweight_attr\n\u001b[0;32m     66\u001b[0m     )\n\u001b[0;32m     67\u001b[0m     \u001b[39mself\u001b[39m\u001b[39m.\u001b[39mtype_vocab_size \u001b[39m=\u001b[39m config\u001b[39m.\u001b[39mtype_vocab_size\n",
      "File \u001b[1;32mc:\\Users\\zjt78\\miniconda3\\envs\\faq\\lib\\site-packages\\paddle\\nn\\layer\\common.py:1505\u001b[0m, in \u001b[0;36mEmbedding.__init__\u001b[1;34m(self, num_embeddings, embedding_dim, padding_idx, sparse, weight_attr, name)\u001b[0m\n\u001b[0;32m   1503\u001b[0m \u001b[39mself\u001b[39m\u001b[39m.\u001b[39m_remote_prefetch \u001b[39m=\u001b[39m \u001b[39mFalse\u001b[39;00m\n\u001b[0;32m   1504\u001b[0m \u001b[39mself\u001b[39m\u001b[39m.\u001b[39m_name \u001b[39m=\u001b[39m name\n\u001b[1;32m-> 1505\u001b[0m \u001b[39mself\u001b[39m\u001b[39m.\u001b[39mweight \u001b[39m=\u001b[39m \u001b[39mself\u001b[39;49m\u001b[39m.\u001b[39;49mcreate_parameter(\n\u001b[0;32m   1506\u001b[0m     attr\u001b[39m=\u001b[39;49m\u001b[39mself\u001b[39;49m\u001b[39m.\u001b[39;49m_weight_attr,\n\u001b[0;32m   1507\u001b[0m     shape\u001b[39m=\u001b[39;49m\u001b[39mself\u001b[39;49m\u001b[39m.\u001b[39;49m_size,\n\u001b[0;32m   1508\u001b[0m     dtype\u001b[39m=\u001b[39;49m\u001b[39mself\u001b[39;49m\u001b[39m.\u001b[39;49m_dtype,\n\u001b[0;32m   1509\u001b[0m     is_bias\u001b[39m=\u001b[39;49m\u001b[39mFalse\u001b[39;49;00m,\n\u001b[0;32m   1510\u001b[0m )\n\u001b[0;32m   1512\u001b[0m \u001b[39mif\u001b[39;00m in_dynamic_mode() \u001b[39mand\u001b[39;00m padding_idx \u001b[39m!=\u001b[39m \u001b[39m-\u001b[39m\u001b[39m1\u001b[39m:\n\u001b[0;32m   1513\u001b[0m     \u001b[39mwith\u001b[39;00m paddle\u001b[39m.\u001b[39mno_grad():\n",
      "File \u001b[1;32mc:\\Users\\zjt78\\miniconda3\\envs\\faq\\lib\\site-packages\\paddle\\fluid\\dygraph\\layers.py:446\u001b[0m, in \u001b[0;36mLayer.create_parameter\u001b[1;34m(self, shape, attr, dtype, is_bias, default_initializer)\u001b[0m\n\u001b[0;32m    444\u001b[0m \u001b[39mif\u001b[39;00m \u001b[39misinstance\u001b[39m(temp_attr, six\u001b[39m.\u001b[39mstring_types) \u001b[39mand\u001b[39;00m temp_attr \u001b[39m==\u001b[39m \u001b[39m\"\u001b[39m\u001b[39m\"\u001b[39m:\n\u001b[0;32m    445\u001b[0m     temp_attr \u001b[39m=\u001b[39m \u001b[39mNone\u001b[39;00m\n\u001b[1;32m--> 446\u001b[0m \u001b[39mreturn\u001b[39;00m \u001b[39mself\u001b[39;49m\u001b[39m.\u001b[39;49m_helper\u001b[39m.\u001b[39;49mcreate_parameter(temp_attr, shape, dtype, is_bias,\n\u001b[0;32m    447\u001b[0m                                      default_initializer)\n",
      "File \u001b[1;32mc:\\Users\\zjt78\\miniconda3\\envs\\faq\\lib\\site-packages\\paddle\\fluid\\layer_helper_base.py:374\u001b[0m, in \u001b[0;36mLayerHelperBase.create_parameter\u001b[1;34m(self, attr, shape, dtype, is_bias, default_initializer, stop_gradient, type)\u001b[0m\n\u001b[0;32m    368\u001b[0m     \u001b[39mif\u001b[39;00m is_used:\n\u001b[0;32m    369\u001b[0m         \u001b[39mraise\u001b[39;00m \u001b[39mValueError\u001b[39;00m(\n\u001b[0;32m    370\u001b[0m             \u001b[39m\"\u001b[39m\u001b[39mparameter name [\u001b[39m\u001b[39m{}\u001b[39;00m\u001b[39m] have be been used. \u001b[39m\u001b[39m\"\u001b[39m\n\u001b[0;32m    371\u001b[0m             \u001b[39m\"\u001b[39m\u001b[39mIn dygraph mode, the name of parameter can\u001b[39m\u001b[39m'\u001b[39m\u001b[39mt be same.\u001b[39m\u001b[39m\"\u001b[39m\n\u001b[0;32m    372\u001b[0m             \u001b[39m\"\u001b[39m\u001b[39mPlease check the parameter attr value passed to self.create_parameter or \u001b[39m\u001b[39m\"\u001b[39m\n\u001b[0;32m    373\u001b[0m             \u001b[39m\"\u001b[39m\u001b[39mconstructor of dygraph Layers\u001b[39m\u001b[39m\"\u001b[39m\u001b[39m.\u001b[39mformat(attr\u001b[39m.\u001b[39mname))\n\u001b[1;32m--> 374\u001b[0m     \u001b[39mreturn\u001b[39;00m \u001b[39mself\u001b[39m\u001b[39m.\u001b[39mmain_program\u001b[39m.\u001b[39mglobal_block()\u001b[39m.\u001b[39mcreate_parameter(\n\u001b[0;32m    375\u001b[0m         dtype\u001b[39m=\u001b[39mdtype,\n\u001b[0;32m    376\u001b[0m         shape\u001b[39m=\u001b[39mshape,\n\u001b[0;32m    377\u001b[0m         \u001b[39mtype\u001b[39m\u001b[39m=\u001b[39m\u001b[39mtype\u001b[39m,\n\u001b[0;32m    378\u001b[0m         stop_gradient\u001b[39m=\u001b[39mstop_gradient,\n\u001b[0;32m    379\u001b[0m         \u001b[39m*\u001b[39m\u001b[39m*\u001b[39mattr\u001b[39m.\u001b[39m_to_kwargs(with_initializer\u001b[39m=\u001b[39m\u001b[39mTrue\u001b[39;00m))\n\u001b[0;32m    380\u001b[0m \u001b[39melse\u001b[39;00m:\n\u001b[0;32m    381\u001b[0m     \u001b[39mself\u001b[39m\u001b[39m.\u001b[39mstartup_program\u001b[39m.\u001b[39mglobal_block()\u001b[39m.\u001b[39mcreate_parameter(\n\u001b[0;32m    382\u001b[0m         dtype\u001b[39m=\u001b[39mdtype,\n\u001b[0;32m    383\u001b[0m         shape\u001b[39m=\u001b[39mshape,\n\u001b[0;32m    384\u001b[0m         \u001b[39mtype\u001b[39m\u001b[39m=\u001b[39m\u001b[39mtype\u001b[39m,\n\u001b[0;32m    385\u001b[0m         \u001b[39m*\u001b[39m\u001b[39m*\u001b[39mattr\u001b[39m.\u001b[39m_to_kwargs(with_initializer\u001b[39m=\u001b[39m\u001b[39mTrue\u001b[39;00m))\n",
      "File \u001b[1;32mc:\\Users\\zjt78\\miniconda3\\envs\\faq\\lib\\site-packages\\paddle\\fluid\\framework.py:3965\u001b[0m, in \u001b[0;36mBlock.create_parameter\u001b[1;34m(self, *args, **kwargs)\u001b[0m\n\u001b[0;32m   3963\u001b[0m         \u001b[39mpass\u001b[39;00m\n\u001b[0;32m   3964\u001b[0m     \u001b[39melse\u001b[39;00m:\n\u001b[1;32m-> 3965\u001b[0m         initializer(param, \u001b[39mself\u001b[39;49m)\n\u001b[0;32m   3966\u001b[0m \u001b[39mreturn\u001b[39;00m param\n",
      "File \u001b[1;32mc:\\Users\\zjt78\\miniconda3\\envs\\faq\\lib\\site-packages\\paddle\\fluid\\initializer.py:56\u001b[0m, in \u001b[0;36mInitializer.__call__\u001b[1;34m(self, param, block)\u001b[0m\n\u001b[0;32m     54\u001b[0m \u001b[39mdef\u001b[39;00m \u001b[39m__call__\u001b[39m(\u001b[39mself\u001b[39m, param, block\u001b[39m=\u001b[39m\u001b[39mNone\u001b[39;00m):\n\u001b[0;32m     55\u001b[0m     \u001b[39mif\u001b[39;00m \u001b[39mnot\u001b[39;00m lazy_init_helper()\u001b[39m.\u001b[39mstate:\n\u001b[1;32m---> 56\u001b[0m         \u001b[39mreturn\u001b[39;00m \u001b[39mself\u001b[39;49m\u001b[39m.\u001b[39;49mforward(param, block)\n\u001b[0;32m     58\u001b[0m     \u001b[39mreturn\u001b[39;00m \u001b[39mself\u001b[39m\u001b[39m.\u001b[39m_lazy_init(param, block)\n",
      "File \u001b[1;32mc:\\Users\\zjt78\\miniconda3\\envs\\faq\\lib\\site-packages\\paddle\\fluid\\initializer.py:470\u001b[0m, in \u001b[0;36mTruncatedNormalInitializer.forward\u001b[1;34m(self, var, block)\u001b[0m\n\u001b[0;32m    467\u001b[0m     out_var \u001b[39m=\u001b[39m var\n\u001b[0;32m    469\u001b[0m \u001b[39mif\u001b[39;00m in_dygraph_mode():\n\u001b[1;32m--> 470\u001b[0m     out_var \u001b[39m=\u001b[39m _C_ops\u001b[39m.\u001b[39;49mtruncated_gaussian_random(\n\u001b[0;32m    471\u001b[0m         var\u001b[39m.\u001b[39;49mshape, \u001b[39mself\u001b[39;49m\u001b[39m.\u001b[39;49m_mean, \u001b[39mself\u001b[39;49m\u001b[39m.\u001b[39;49m_std_dev, \u001b[39mself\u001b[39;49m\u001b[39m.\u001b[39;49m_seed, out_dtype,\n\u001b[0;32m    472\u001b[0m         _current_expected_place())\n\u001b[0;32m    473\u001b[0m     \u001b[39mif\u001b[39;00m var\u001b[39m.\u001b[39mdtype \u001b[39min\u001b[39;00m [VarDesc\u001b[39m.\u001b[39mVarType\u001b[39m.\u001b[39mFP16, VarDesc\u001b[39m.\u001b[39mVarType\u001b[39m.\u001b[39mBF16]:\n\u001b[0;32m    474\u001b[0m         var_tmp \u001b[39m=\u001b[39m _C_ops\u001b[39m.\u001b[39mcast(out_var, var\u001b[39m.\u001b[39mdtype)\n",
      "\u001b[1;31mRuntimeError\u001b[0m: (PreconditionNotMet) The third-party dynamic library (cudnn64_8.dll) that Paddle depends on is not configured correctly. (error code is 126)\n  Suggestions:\n  1. Check if the third-party dynamic library (e.g. CUDA, CUDNN) is installed correctly and its version is matched with paddlepaddle you installed.\n  2. Configure third-party dynamic library environment variables as follows:\n  - Linux: set LD_LIBRARY_PATH by `export LD_LIBRARY_PATH=...`\n  - Windows: set PATH by `set PATH=XXX; (at ..\\paddle\\phi\\backends\\dynload\\dynamic_loader.cc:305)\n"
     ]
    }
   ],
   "source": [
    "aug = WordSubstitute('mlm', create_n=2)\n",
    "augmented = aug.augment(s1)\n",
    "print(\"origin:\", s1)\n",
    "print(\"augmented:\", augmented[0])"
   ]
  }
 ],
 "metadata": {
  "kernelspec": {
   "display_name": "faq",
   "language": "python",
   "name": "python3"
  },
  "language_info": {
   "codemirror_mode": {
    "name": "ipython",
    "version": 3
   },
   "file_extension": ".py",
   "mimetype": "text/x-python",
   "name": "python",
   "nbconvert_exporter": "python",
   "pygments_lexer": "ipython3",
   "version": "3.9.12"
  },
  "vscode": {
   "interpreter": {
    "hash": "a48dfe28e322957f704fed4a234742707446a0393501f475af07d20091f93ee6"
   }
  }
 },
 "nbformat": 4,
 "nbformat_minor": 4
}
