{
 "cells": [
  {
   "cell_type": "code",
   "execution_count": 1,
   "metadata": {
    "execution": {
     "iopub.execute_input": "2022-03-22T05:51:55.277179Z",
     "iopub.status.busy": "2022-03-22T05:51:55.276837Z",
     "iopub.status.idle": "2022-03-22T05:51:55.296837Z",
     "shell.execute_reply": "2022-03-22T05:51:55.295664Z",
     "shell.execute_reply.started": "2022-03-22T05:51:55.277143Z"
    }
   },
   "outputs": [],
   "source": [
    "import torch\n",
    "from torch.nn import functional as F\n",
    "from torchvision import transforms\n",
    "from torch.utils import data\n",
    "from tqdm import tqdm\n",
    "from IPython import display\n",
    "import matplotlib.pyplot as plt\n",
    "# sys.path.append('/kaggle/input')\n",
    "# from myutils import utils"
   ]
  },
  {
   "cell_type": "code",
   "execution_count": 4,
   "metadata": {},
   "outputs": [
    {
     "data": {
      "text/plain": [
       "tensor([[1, 0, 0, 0, 0, 0, 0, 0, 0, 0, 0, 0, 0, 0, 0, 0, 0, 0, 0, 0, 0, 0, 0, 0,\n",
       "         0, 0, 0, 0],\n",
       "        [0, 0, 1, 0, 0, 0, 0, 0, 0, 0, 0, 0, 0, 0, 0, 0, 0, 0, 0, 0, 0, 0, 0, 0,\n",
       "         0, 0, 0, 0]])"
      ]
     },
     "execution_count": 4,
     "metadata": {},
     "output_type": "execute_result"
    }
   ],
   "source": [
    "F.one_hot(torch.tensor([0,2]), 28)"
   ]
  }
 ],
 "metadata": {
  "interpreter": {
   "hash": "75c4182fdda04e01df3e97b8f170bae7db840ddc945de1ed7e60ce57cc68d8b8"
  },
  "kernelspec": {
   "display_name": "Python 3.9.7 ('torch')",
   "language": "python",
   "name": "python3"
  },
  "language_info": {
   "codemirror_mode": {
    "name": "ipython",
    "version": 3
   },
   "file_extension": ".py",
   "mimetype": "text/x-python",
   "name": "python",
   "nbconvert_exporter": "python",
   "pygments_lexer": "ipython3",
   "version": "3.9.7"
  }
 },
 "nbformat": 4,
 "nbformat_minor": 4
}
